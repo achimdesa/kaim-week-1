{
 "cells": [
  {
   "cell_type": "code",
   "execution_count": null,
   "metadata": {},
   "outputs": [],
   "source": [
    "import sys\n",
    "import os\n",
    "current_dir = os.getcwd()\n",
    "print ('Current directory', current_dir)\n",
    "parent_dir = os.path.dirname(current_dir)\n",
    "print('parrent dir', parent_dir)\n",
    "sys.path.insert(0, parent_dir)"
   ]
  },
  {
   "cell_type": "code",
   "execution_count": null,
   "metadata": {},
   "outputs": [],
   "source": [
    "# Import necessary modules\n",
    "from scripts.data_loader import load_stock_data\n",
    "from scripts.data_preparation import calculate_indicators\n",
    "from scripts.data_visualization import plot_indicators\n",
    "from scripts.calculate_financial_metrics import calculate_pynance_metrics, prepare_portfolio_data"
   ]
  },
  {
   "cell_type": "code",
   "execution_count": null,
   "metadata": {},
   "outputs": [],
   "source": [
    "# Load stock data\n",
    "\n",
    "aapl_data = load_stock_data('../Data/yfinance_data/AAPL_historical_data.csv')\n",
    "amzn_data = load_stock_data('../Data/yfinance_data/AMZN_historical_data.csv')\n",
    "goog_data = load_stock_data('../Data/yfinance_data/GOOG_historical_data.csv')\n",
    "meta_data = load_stock_data('../Data/yfinance_data/META_historical_data.csv')\n",
    "msft_data = load_stock_data('../Data/yfinance_data/MSFT_historical_data.csv')\n",
    "nvda_data = load_stock_data('../Data/yfinance_data/NVDA_historical_data.csv')\n",
    "tsla_data = load_stock_data('../Data/yfinance_data/TSLA_historical_data.csv')\n",
    "print('AAPL_historical_data', aapl_data.head())\n",
    "print('AMAN_historical_data', amzn_data.head())\n",
    "print('GOOF_historical_data', goog_data.head())\n",
    "print('META_historical_data', meta_data.head())\n",
    "print('MSFT_historical_data', msft_data.head())\n",
    "print('NVDA_historical_data', nvda_data.head())\n",
    "print('TSLA_historical_data', tsla_data.head())\n",
    "\n",
    "# Perform EDA on the stock data\n"
   ]
  },
  {
   "cell_type": "code",
   "execution_count": null,
   "metadata": {},
   "outputs": [],
   "source": [
    "# Apply the indicators to all stock datasets\n",
    "aapl_data = calculate_indicators(aapl_data)\n",
    "amzn_data = calculate_indicators(amzn_data)\n",
    "goog_data = calculate_indicators(goog_data)\n",
    "meta_data = calculate_indicators(meta_data)\n",
    "msft_data = calculate_indicators(msft_data)\n",
    "nvda_data = calculate_indicators(nvda_data)\n",
    "tsla_data = calculate_indicators(tsla_data)\n",
    "\n",
    "print('aapl_data:,', aapl_data.head())\n",
    "print('amzn_data:,', amzn_data.head())\n",
    "print('goog_data:,', goog_data.head())\n",
    "print('meta_data:,', meta_data.head())\n",
    "print('MSFT_data:,', msft_data.head())\n",
    "print('NVDA_data:,', nvda_data.head())\n",
    "print('TSLA_data:,', tsla_data.head())\n"
   ]
  },
  {
   "cell_type": "code",
   "execution_count": null,
   "metadata": {},
   "outputs": [],
   "source": [
    "# Visualizations to understand the data better and observe the impact of the indicator\n",
    "plot_indicators(aapl_data, 'AAPL')\n",
    "plot_indicators(amzn_data, 'AMZN')\n",
    "plot_indicators(goog_data, 'GOOG')\n",
    "plot_indicators(meta_data, 'META')\n",
    "plot_indicators(msft_data, 'MSFT')\n",
    "plot_indicators(nvda_data, 'NVDA')\n",
    "plot_indicators(tsla_data, 'TSLA')"
   ]
  },
  {
   "cell_type": "code",
   "execution_count": null,
   "metadata": {},
   "outputs": [],
   "source": [
    "# Prepare the portfolio data\n",
    "portfolio = prepare_portfolio_data()\n",
    "\n",
    "# Calculate the metrics\n",
    "calculate_pynance_metrics(portfolio)"
   ]
  }
 ],
 "metadata": {
  "kernelspec": {
   "display_name": "venv",
   "language": "python",
   "name": "python3"
  },
  "language_info": {
   "codemirror_mode": {
    "name": "ipython",
    "version": 3
   },
   "file_extension": ".py",
   "mimetype": "text/x-python",
   "name": "python",
   "nbconvert_exporter": "python",
   "pygments_lexer": "ipython3",
   "version": "3.12.5"
  }
 },
 "nbformat": 4,
 "nbformat_minor": 2
}
