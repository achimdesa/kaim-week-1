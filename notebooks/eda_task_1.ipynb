{
 "cells": [
  {
   "cell_type": "code",
   "execution_count": null,
   "metadata": {},
   "outputs": [],
   "source": [
    "import sys\n",
    "import os\n",
    "current_dir = os.getcwd()\n",
    "print ('Current directory', current_dir)\n",
    "parent_dir = os.path.dirname(current_dir)\n",
    "print('parrent dir', parent_dir)\n",
    "sys.path.insert(0, parent_dir)"
   ]
  },
  {
   "cell_type": "code",
   "execution_count": null,
   "metadata": {},
   "outputs": [],
   "source": [
    "# Import necessary modules\n",
    "from scripts.data_loader import load_analyst_data\n",
    "from scripts.descriptive_statistics import headline_length_statistics, count_articles_by_publisher, analyze_publication_dates\n",
    "from scripts.sentiment_analysis import perform_sentiment_analysis\n",
    "from scripts.topic_modeling import perform_topic_modeling\n",
    "from scripts.time_series_analysis import analyze_publication_frequency\n",
    "from scripts.publisher_analysis import analyze_publisher_contributions, analyze_domains\n"
   ]
  },
  {
   "cell_type": "code",
   "execution_count": null,
   "metadata": {},
   "outputs": [],
   "source": [
    "# Load Data\n",
    "analyst_data = load_analyst_data()"
   ]
  },
  {
   "cell_type": "code",
   "execution_count": null,
   "metadata": {},
   "outputs": [],
   "source": [
    "# Descriptive Statistics\n",
    "headline_stats = headline_length_statistics(analyst_data)\n",
    "print(\"Headline Length Statistics:\\n\", headline_stats)\n",
    "\n",
    "publisher_counts = count_articles_by_publisher(analyst_data)\n",
    "print(\"Publisher Article Counts:\\n\", publisher_counts)\n",
    "\n",
    "publication_trends = analyze_publication_dates(analyst_data)\n",
    "print(\"Publication Trends:\\n\", publication_trends)\n",
    "\n"
   ]
  },
  {
   "cell_type": "code",
   "execution_count": null,
   "metadata": {},
   "outputs": [],
   "source": [
    "# Sentiment analysis\n",
    "sentiments = perform_sentiment_analysis(analyst_data['headline'])\n",
    "print(\"Sentiment Analysis Results:\\n\", sentiments.head())\n",
    "sentiments.to_csv('../Data/sentiment_analysis_results_vader.csv', index=False)"
   ]
  },
  {
   "cell_type": "code",
   "execution_count": null,
   "metadata": {},
   "outputs": [],
   "source": [
    "# Topic Modeling and print the top 10 results in each topic\n",
    "lda_model, vectorizer = perform_topic_modeling(analyst_data['headline'], num_topics=5, num_top_words=10)\n"
   ]
  },
  {
   "cell_type": "code",
   "execution_count": null,
   "metadata": {},
   "outputs": [],
   "source": [
    "# Time Series Analysis\n",
    "publication_freq = analyze_publication_frequency(analyst_data)\n",
    "print(\"Publication Frequency Over Time:\\n\", publication_freq)\n",
    "\n"
   ]
  },
  {
   "cell_type": "code",
   "execution_count": null,
   "metadata": {},
   "outputs": [],
   "source": [
    "# Publisher Analysis\n",
    "publisher_contributions = analyze_publisher_contributions(analyst_data)\n",
    "print(\"Publisher Contributions:\\n\", publisher_contributions)\n",
    "\n",
    "domain_contributions = analyze_domains(analyst_data)\n",
    "print(\"Domain Contributions:\\n\", domain_contributions)"
   ]
  }
 ],
 "metadata": {
  "kernelspec": {
   "display_name": "venv",
   "language": "python",
   "name": "python3"
  },
  "language_info": {
   "codemirror_mode": {
    "name": "ipython",
    "version": 3
   },
   "file_extension": ".py",
   "mimetype": "text/x-python",
   "name": "python",
   "nbconvert_exporter": "python",
   "pygments_lexer": "ipython3",
   "version": "3.12.5"
  }
 },
 "nbformat": 4,
 "nbformat_minor": 2
}
