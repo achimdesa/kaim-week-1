{
 "cells": [
  {
   "cell_type": "code",
   "execution_count": null,
   "metadata": {},
   "outputs": [],
   "source": [
    "import sys\n",
    "import os\n",
    "current_dir = os.getcwd()\n",
    "print ('Current directory', current_dir)\n",
    "parent_dir = os.path.dirname(current_dir)\n",
    "print('parrent dir', parent_dir)\n",
    "sys.path.insert(0, parent_dir)"
   ]
  },
  {
   "cell_type": "code",
   "execution_count": null,
   "metadata": {},
   "outputs": [],
   "source": [
    "# Import necessary modules\n",
    "from scripts.data_loader import load_analyst_data\n",
    "from scripts.data_preparation import normalize_dates\n",
    "from scripts.data_loader import load_stock_data\n",
    "from scripts.sentiment_analysis import perform_sentiment_analysis2, aggregate_daily_sentiment\n",
    "from scripts.stock_analysis import calculate_daily_returns, calculate_correlation\n"
   ]
  },
  {
   "cell_type": "code",
   "execution_count": null,
   "metadata": {},
   "outputs": [],
   "source": [
    "# Load Data\n",
    "news_data = load_analyst_data()\n",
    "# Load stock data\n",
    "\n",
    "aapl_data = load_stock_data('../Data/yfinance_data/AAPL_historical_data.csv')\n",
    "amzn_data = load_stock_data('../Data/yfinance_data/AMZN_historical_data.csv')\n",
    "goog_data = load_stock_data('../Data/yfinance_data/GOOG_historical_data.csv')\n",
    "meta_data = load_stock_data('../Data/yfinance_data/META_historical_data.csv')\n",
    "msft_data = load_stock_data('../Data/yfinance_data/MSFT_historical_data.csv')\n",
    "nvda_data = load_stock_data('../Data/yfinance_data/NVDA_historical_data.csv')\n",
    "tsla_data = load_stock_data('../Data/yfinance_data/TSLA_historical_data.csv')\n",
    "print('AAPL_historical_data', aapl_data.head())\n",
    "print('AMAN_historical_data', amzn_data.head())\n",
    "print('GOOF_historical_data', goog_data.head())\n",
    "print('META_historical_data', meta_data.head())\n",
    "print('MSFT_historical_data', msft_data.head())\n",
    "print('NVDA_historical_data', nvda_data.head())\n",
    "print('TSLA_historical_data', tsla_data.head())"
   ]
  },
  {
   "cell_type": "code",
   "execution_count": null,
   "metadata": {},
   "outputs": [],
   "source": [
    "# Prepare Data\n",
    "news_data, aapl_data = normalize_dates(news_data, aapl_data)\n",
    "news_data, amzn_data = normalize_dates(news_data, amzn_data)\n",
    "news_data, goog_data = normalize_dates(news_data, goog_data)\n",
    "news_data, meta_data = normalize_dates(news_data, meta_data)\n",
    "news_data, msft_data = normalize_dates(news_data, msft_data)\n",
    "news_data, nvda_data = normalize_dates(news_data, nvda_data)\n",
    "news_data, tsla_data = normalize_dates(news_data, tsla_data)\n",
    "\n",
    "print('Data normalized')"
   ]
  },
  {
   "cell_type": "code",
   "execution_count": null,
   "metadata": {},
   "outputs": [],
   "source": [
    "# Sentiment Analysis\n",
    "news_data['sentiment'] = perform_sentiment_analysis2(news_data['headline'])\n",
    "print(news_data[['date', 'headline', 'sentiment']].head())"
   ]
  },
  {
   "cell_type": "code",
   "execution_count": null,
   "metadata": {},
   "outputs": [],
   "source": [
    "# Aggregate Daily Sentiment\n",
    "daily_sentiment = aggregate_daily_sentiment(news_data)\n",
    "\n",
    "print(\"Daily Returns Calculated.\")\n",
    "print(daily_sentiment.head())"
   ]
  },
  {
   "cell_type": "code",
   "execution_count": null,
   "metadata": {},
   "outputs": [],
   "source": [
    "# Calculate Daily Stock Returns\n",
    "aapl_data['daily_return'] = calculate_daily_returns(aapl_data['Close'])\n",
    "amzn_data['daily_return'] = calculate_daily_returns(amzn_data['Close'])\n",
    "goog_data['daily_return'] = calculate_daily_returns(goog_data['Close'])\n",
    "meta_data['daily_return'] = calculate_daily_returns(meta_data['Close'])\n",
    "msft_data['daily_return'] = calculate_daily_returns(msft_data['Close'])\n",
    "nvda_data['daily_return'] = calculate_daily_returns(nvda_data['Close'])\n",
    "tsla_data['daily_return'] = calculate_daily_returns(tsla_data['Close'])\n",
    "\n",
    "print(\"Daily Returns Calculated.\")\n",
    "print(\"AAPL Data Sample:\",aapl_data[['Date', 'Close', 'daily_return']].head())\n",
    "print(\"AMZN Data Sample:\",amzn_data[['Date', 'Close', 'daily_return']].head())\n",
    "print(\"GOOG Data Sample:\",goog_data[['Date', 'Close', 'daily_return']].head())\n",
    "print(\"META Data Sample:\",meta_data[['Date', 'Close', 'daily_return']].head())\n",
    "print(\"MSFT Data Sample:\",msft_data[['Date', 'Close', 'daily_return']].head())\n",
    "print(\"NVDA Data Sample:\",nvda_data[['Date', 'Close', 'daily_return']].head())\n",
    "print(\"TSLA Data Sample:\",tsla_data[['Date', 'Close', 'daily_return']].head()) \n",
    "\n",
    "\n"
   ]
  },
  {
   "cell_type": "code",
   "execution_count": null,
   "metadata": {},
   "outputs": [],
   "source": [
    "# Correlation Analysis\n",
    "\n",
    "aapl_correlation = calculate_correlation(news_data, aapl_data)\n",
    "amzn_correlation = calculate_correlation(news_data, amzn_data)\n",
    "goog_correlation = calculate_correlation(news_data, goog_data)\n",
    "meta_correlation = calculate_correlation(news_data, meta_data)\n",
    "msft_correlation = calculate_correlation(news_data, msft_data)\n",
    "nvda_correlation = calculate_correlation(news_data, nvda_data)\n",
    "tsla_correlation = calculate_correlation(news_data, tsla_data)\n",
    "\n",
    "print(\"Correlation between daily sentiment and AAPL stock returns:\", aapl_correlation)\n",
    "print(\"Correlation between daily sentiment and AMZN stock returns:\", amzn_correlation)\n",
    "print(\"Correlation between daily sentiment and GOOG stock returns:\", goog_correlation)\n",
    "print(\"Correlation between daily sentiment and META stock returns:\", meta_correlation)\n",
    "print(\"Correlation between daily sentiment and MSFT stock returns:\", msft_correlation)\n",
    "print(\"Correlation between daily sentiment and NVDA stock returns:\", nvda_correlation)\n",
    "print(\"Correlation between daily sentiment and TSLA stock returns:\", tsla_correlation)\n"
   ]
  }
 ],
 "metadata": {
  "kernelspec": {
   "display_name": "venv",
   "language": "python",
   "name": "python3"
  },
  "language_info": {
   "codemirror_mode": {
    "name": "ipython",
    "version": 3
   },
   "file_extension": ".py",
   "mimetype": "text/x-python",
   "name": "python",
   "nbconvert_exporter": "python",
   "pygments_lexer": "ipython3",
   "version": "3.12.5"
  }
 },
 "nbformat": 4,
 "nbformat_minor": 2
}
